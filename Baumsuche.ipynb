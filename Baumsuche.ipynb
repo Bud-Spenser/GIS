{
 "cells": [
  {
   "cell_type": "markdown",
   "metadata": {},
   "source": [
    "**Aufgabe 3 (Suchalgorithmus (1 Vorstellung))** <br/><br/>\n",
    "Implementiere die Baumsuche in Python oder\n",
    "Java. Erlaube dabei einen String-Parameter order, der regelt, wie die OPEN-Queue gesteuert\n",
    "ist (mögliche Werte \"bfs\" und \"dfs\").<br/>\n",
    "Schreibe eine Funktion, die eine Zahl n entgegennimmt und einen Graph (n0, succ, *) für das\n",
    "n-Damen-Problem erzeugt.<br/>\n",
    "Löse das Problem für 4 ≤ n ≤ 30 mit Breiten- und Tiefensuche und berichte die Lösungszeit\n",
    "pro n für beide Algorithmen in einer Tabelle.<br/>\n"
   ]
  },
  {
   "cell_type": "code",
   "execution_count": 20,
   "metadata": {},
   "outputs": [],
   "source": [
    "import random\n",
    "import time"
   ]
  },
  {
   "cell_type": "code",
   "execution_count": 25,
   "metadata": {},
   "outputs": [],
   "source": [
    "class Tree:\n",
    "    \n",
    "    #edges,nodes\n",
    "    def __init__(self,n):\n",
    "        #open als Liste\n",
    "        self.open = [[]]\n",
    "        self.n = n\n",
    "    \n",
    "    def succ(self, nodes):\n",
    "        if nodes is None:\n",
    "            nodes = []\n",
    "        psbl_nodes = list(range(1,self.n+1))\n",
    "        ## Test, which of the nodes is diag or same column of the psbl_nodes\n",
    "        psbl_nodes= self.mask(nodes, psbl_nodes)\n",
    "\n",
    "        #if there are child nodes, check if goal is reached.\n",
    "        if len(psbl_nodes) != 0:\n",
    "            for i in range(len(psbl_nodes)):\n",
    "                # copy current list, append new value\n",
    "                x = nodes.copy()\n",
    "                x.append(psbl_nodes[i])\n",
    "                # star function\n",
    "                if (len(x)) == self.n:\n",
    "                    #print(\"Success\")\n",
    "                    #print(x)\n",
    "                    return (True)\n",
    "                self.open.append(x)\n",
    "\n",
    "    def mask(self, nodes, psbl_nodes):\n",
    "        for i in range(1,len(nodes)+1):\n",
    "            #remove dames with same column\n",
    "            if nodes[-i] in psbl_nodes:\n",
    "                psbl_nodes.remove(nodes[-i])\n",
    "            #remove dames which are on the diag left of current\n",
    "            if (nodes[-i]-(i*1)) in psbl_nodes:\n",
    "                psbl_nodes.remove(nodes[-i]-(i*1))\n",
    "            #remove dames which are on the diag right of current\n",
    "            if (nodes[-i]+(i*1)) in psbl_nodes:\n",
    "                psbl_nodes.remove(nodes[-i]+(i*1))\n",
    "            \n",
    "            random.shuffle(psbl_nodes)\n",
    "\n",
    "        return psbl_nodes"
   ]
  },
  {
   "cell_type": "code",
   "execution_count": 12,
   "metadata": {},
   "outputs": [],
   "source": [
    "def treeSearch(n, order):\n",
    "    tree = Tree(n)\n",
    "\n",
    "    if order==\"bfs\":\n",
    "        while len(tree.open) !=0:\n",
    "            nodes = tree.open.pop(0)\n",
    "            if tree.succ(nodes) ==True:\n",
    "                return\n",
    "        print(\"Failure\")\n",
    "    \n",
    "    if order==\"dfs\":\n",
    "        while len(tree.open) !=0:\n",
    "            nodes = tree.open.pop(-1)\n",
    "            if tree.succ(nodes) ==True:\n",
    "                return\n",
    "        print(\"Failure\")"
   ]
  },
  {
   "cell_type": "code",
   "execution_count": 26,
   "metadata": {},
   "outputs": [],
   "source": [
    "def runBenchmark_dfs():\n",
    "    for x in range (4,31):\n",
    "        dfs_start = time.perf_counter()\n",
    "        treeSearch(x, \"dfs\")\n",
    "        dfs_end = time.perf_counter()\n",
    "\n",
    "        print(x, round(dfs_end - dfs_start,4))"
   ]
  },
  {
   "cell_type": "code",
   "execution_count": null,
   "metadata": {},
   "outputs": [],
   "source": [
    "def runBenchmark_bfs():\n",
    "    for x in range (4,31):\n",
    "        bfs_start = time.perf_counter()\n",
    "        treeSearch(x, \"bfs\")\n",
    "        bfs_end = time.perf_counter()\n",
    "        \n",
    "        print(x, round(bfs_end-bfs_start,4))"
   ]
  },
  {
   "cell_type": "code",
   "execution_count": 27,
   "metadata": {},
   "outputs": [
    {
     "ename": "TypeError",
     "evalue": "object of type 'NoneType' has no len()",
     "output_type": "error",
     "traceback": [
      "\u001b[1;31m---------------------------------------------------------------------------\u001b[0m",
      "\u001b[1;31mTypeError\u001b[0m                                 Traceback (most recent call last)",
      "\u001b[1;32m~\\AppData\\Local\\Temp/ipykernel_23328/3479863529.py\u001b[0m in \u001b[0;36m<module>\u001b[1;34m\u001b[0m\n\u001b[1;32m----> 1\u001b[1;33m \u001b[0mrunBenchmark_dfs\u001b[0m\u001b[1;33m(\u001b[0m\u001b[1;33m)\u001b[0m\u001b[1;33m\u001b[0m\u001b[1;33m\u001b[0m\u001b[0m\n\u001b[0m",
      "\u001b[1;32m~\\AppData\\Local\\Temp/ipykernel_23328/476031257.py\u001b[0m in \u001b[0;36mrunBenchmark_dfs\u001b[1;34m()\u001b[0m\n\u001b[0;32m      2\u001b[0m     \u001b[1;32mfor\u001b[0m \u001b[0mx\u001b[0m \u001b[1;32min\u001b[0m \u001b[0mrange\u001b[0m \u001b[1;33m(\u001b[0m\u001b[1;36m4\u001b[0m\u001b[1;33m,\u001b[0m\u001b[1;36m31\u001b[0m\u001b[1;33m)\u001b[0m\u001b[1;33m:\u001b[0m\u001b[1;33m\u001b[0m\u001b[1;33m\u001b[0m\u001b[0m\n\u001b[0;32m      3\u001b[0m         \u001b[0mdfs_start\u001b[0m \u001b[1;33m=\u001b[0m \u001b[0mtime\u001b[0m\u001b[1;33m.\u001b[0m\u001b[0mperf_counter\u001b[0m\u001b[1;33m(\u001b[0m\u001b[1;33m)\u001b[0m\u001b[1;33m\u001b[0m\u001b[1;33m\u001b[0m\u001b[0m\n\u001b[1;32m----> 4\u001b[1;33m         \u001b[0mtreeSearch\u001b[0m\u001b[1;33m(\u001b[0m\u001b[0mx\u001b[0m\u001b[1;33m,\u001b[0m \u001b[1;34m\"dfs\"\u001b[0m\u001b[1;33m)\u001b[0m\u001b[1;33m\u001b[0m\u001b[1;33m\u001b[0m\u001b[0m\n\u001b[0m\u001b[0;32m      5\u001b[0m         \u001b[0mdfs_end\u001b[0m \u001b[1;33m=\u001b[0m \u001b[0mtime\u001b[0m\u001b[1;33m.\u001b[0m\u001b[0mperf_counter\u001b[0m\u001b[1;33m(\u001b[0m\u001b[1;33m)\u001b[0m\u001b[1;33m\u001b[0m\u001b[1;33m\u001b[0m\u001b[0m\n\u001b[0;32m      6\u001b[0m \u001b[1;33m\u001b[0m\u001b[0m\n",
      "\u001b[1;32m~\\AppData\\Local\\Temp/ipykernel_23328/2749639787.py\u001b[0m in \u001b[0;36mtreeSearch\u001b[1;34m(n, order)\u001b[0m\n\u001b[0;32m     14\u001b[0m         \u001b[1;32mwhile\u001b[0m \u001b[0mlen\u001b[0m\u001b[1;33m(\u001b[0m\u001b[0mtree\u001b[0m\u001b[1;33m.\u001b[0m\u001b[0mopen\u001b[0m\u001b[1;33m)\u001b[0m \u001b[1;33m!=\u001b[0m\u001b[1;36m0\u001b[0m\u001b[1;33m:\u001b[0m\u001b[1;33m\u001b[0m\u001b[1;33m\u001b[0m\u001b[0m\n\u001b[0;32m     15\u001b[0m             \u001b[0mnodes\u001b[0m \u001b[1;33m=\u001b[0m \u001b[0mtree\u001b[0m\u001b[1;33m.\u001b[0m\u001b[0mopen\u001b[0m\u001b[1;33m.\u001b[0m\u001b[0mpop\u001b[0m\u001b[1;33m(\u001b[0m\u001b[1;33m-\u001b[0m\u001b[1;36m1\u001b[0m\u001b[1;33m)\u001b[0m\u001b[1;33m\u001b[0m\u001b[1;33m\u001b[0m\u001b[0m\n\u001b[1;32m---> 16\u001b[1;33m             \u001b[1;32mif\u001b[0m \u001b[0mtree\u001b[0m\u001b[1;33m.\u001b[0m\u001b[0msucc\u001b[0m\u001b[1;33m(\u001b[0m\u001b[0mnodes\u001b[0m\u001b[1;33m)\u001b[0m \u001b[1;33m==\u001b[0m\u001b[1;32mTrue\u001b[0m\u001b[1;33m:\u001b[0m\u001b[1;33m\u001b[0m\u001b[1;33m\u001b[0m\u001b[0m\n\u001b[0m\u001b[0;32m     17\u001b[0m                 \u001b[1;32mreturn\u001b[0m\u001b[1;33m\u001b[0m\u001b[1;33m\u001b[0m\u001b[0m\n\u001b[0;32m     18\u001b[0m         \u001b[0mprint\u001b[0m\u001b[1;33m(\u001b[0m\u001b[1;34m\"Failure\"\u001b[0m\u001b[1;33m)\u001b[0m\u001b[1;33m\u001b[0m\u001b[1;33m\u001b[0m\u001b[0m\n",
      "\u001b[1;32m~\\AppData\\Local\\Temp/ipykernel_23328/3129290807.py\u001b[0m in \u001b[0;36msucc\u001b[1;34m(self, nodes)\u001b[0m\n\u001b[0;32m     15\u001b[0m \u001b[1;33m\u001b[0m\u001b[0m\n\u001b[0;32m     16\u001b[0m         \u001b[1;31m#if there are child nodes, check if goal is reached.\u001b[0m\u001b[1;33m\u001b[0m\u001b[1;33m\u001b[0m\u001b[0m\n\u001b[1;32m---> 17\u001b[1;33m         \u001b[1;32mif\u001b[0m \u001b[0mlen\u001b[0m\u001b[1;33m(\u001b[0m\u001b[0mpsbl_nodes\u001b[0m\u001b[1;33m)\u001b[0m \u001b[1;33m!=\u001b[0m \u001b[1;36m0\u001b[0m\u001b[1;33m:\u001b[0m\u001b[1;33m\u001b[0m\u001b[1;33m\u001b[0m\u001b[0m\n\u001b[0m\u001b[0;32m     18\u001b[0m             \u001b[1;32mfor\u001b[0m \u001b[0mi\u001b[0m \u001b[1;32min\u001b[0m \u001b[0mrange\u001b[0m\u001b[1;33m(\u001b[0m\u001b[0mlen\u001b[0m\u001b[1;33m(\u001b[0m\u001b[0mpsbl_nodes\u001b[0m\u001b[1;33m)\u001b[0m\u001b[1;33m)\u001b[0m\u001b[1;33m:\u001b[0m\u001b[1;33m\u001b[0m\u001b[1;33m\u001b[0m\u001b[0m\n\u001b[0;32m     19\u001b[0m                 \u001b[1;31m# copy current list, append new value\u001b[0m\u001b[1;33m\u001b[0m\u001b[1;33m\u001b[0m\u001b[0m\n",
      "\u001b[1;31mTypeError\u001b[0m: object of type 'NoneType' has no len()"
     ]
    }
   ],
   "source": [
    "runBenchmark_dfs()"
   ]
  }
 ],
 "metadata": {
  "interpreter": {
   "hash": "6be97c60451b4f6af63e1586cbe6045bdff23fdba9e17955e0da061620e78ebb"
  },
  "kernelspec": {
   "display_name": "Python 3.9.7 ('base')",
   "language": "python",
   "name": "python3"
  },
  "language_info": {
   "codemirror_mode": {
    "name": "ipython",
    "version": 3
   },
   "file_extension": ".py",
   "mimetype": "text/x-python",
   "name": "python",
   "nbconvert_exporter": "python",
   "pygments_lexer": "ipython3",
   "version": "3.9.7"
  },
  "orig_nbformat": 4
 },
 "nbformat": 4,
 "nbformat_minor": 2
}
