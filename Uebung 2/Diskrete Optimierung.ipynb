{
 "cells": [
  {
   "cell_type": "markdown",
   "metadata": {},
   "source": [
    "Aufgabe 3\n",
    "(Diskrete Optimierung (2 Vorstellungen)) Wir betrachten ein diskretes Optimierungsproblem mit n binären Entscheidungsvariablen. Die zu optimierende Funktion ist:\n",
    "<br/>$f(x) = |p − \\sum_{i=0}^{n-1} x_i2^i| $ d.h. entspricht einfach dem Abstand der binären Auswertung als\n",
    "<br/>natürliche Zahl zur Zielzahl p.\n",
    "<br/><br/>\n",
    "\n",
    "Im Folgenden wollen wir die Fälle $ p ∈ $ {0, 42}  betrachten."
   ]
  },
  {
   "cell_type": "markdown",
   "metadata": {},
   "source": [
    "1. Implementiere Hill Climbing und Simulated Annealing.<br/>\n",
    "Nun definiere für dieses Problem eine “sinnvolle” Nachbarschaftsfunktion.<br/>\n",
    "Führe jeweils 100 Läufe von Simulated Annealing mit Tt = 1 und Nt ∈ {10, 100, 1000}<br/>\n",
    "durch, jeweils mit zufälligen Neustarts, wobei das Abbruchkriterium für Zeile 12 ist, dass<br/>\n",
    "sich die beste gefundene Lösung x∗ nicht verbessert hat. Wie lang ist die Laufzeit und<br/>\n",
    "wie hoch ist die (empirische) Wahrscheinlichkeit für n ∈ {10, 100}, dass SA das globale<br/>\n",
    "Optimum findet?<br/><br/>\n",
    "Führe jetzt Hill-Climbing mit zufälligen neuen Lösungen für die gleiche Gesamtlaufzeit<br/>\n",
    "aus, wie SA (d.h. Endlosschleife, die abbricht, wenn die Zeit abgelaufen ist, die durch<br/>\n",
    "SA vorgegeben wurde). Wie viele Iterationen schafft Hill-Climbing und wie ist die (empirische) Wahrscheinlichkeit, dass HC die optimale Lösung liefert?<br/><br/>\n",
    "Ist von den Zielen p = 0 und p = 42 eines leichter zu erreichen als das andere? Warum?\n"
   ]
  },
  {
   "cell_type": "code",
   "execution_count": null,
   "metadata": {},
   "outputs": [],
   "source": []
  }
 ],
 "metadata": {
  "language_info": {
   "name": "python"
  },
  "orig_nbformat": 4
 },
 "nbformat": 4,
 "nbformat_minor": 2
}
