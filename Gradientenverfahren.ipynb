{
 "cells": [
  {
   "cell_type": "code",
   "execution_count": 44,
   "metadata": {},
   "outputs": [],
   "source": [
    "from math import sqrt"
   ]
  },
  {
   "cell_type": "markdown",
   "metadata": {},
   "source": [
    "Implementiere eine Funktion gradientOptimization(grad, x0, min, eta, eps), die das\n",
    "Gradienteverfahren umsetzt. Dabei ist grad der Vektor der ersten Ableitungen, x0 der Startpunkt und min eine boolsche Variable, die sagt ob minimiert oder maximiert werden soll. eta\n",
    "ist die Schrittweite und eps das Abbruchkriterium.\n",
    "Bestimme den Gradienten der folgenden Funktionen f : R\n",
    "n → R für allgemeine n. Wende\n",
    "dann das Gradientenverfahren nun mit mehreren zufälligen re-starts für n = 2 an. Teste\n",
    "mehrere Schrittweiten (η = 10i\n",
    "für i in verschiedenen Größenordnungen). Welche Schrittweiten\n",
    "funktionieren gut und welche nicht?\n",
    "1. Sphären-Funktion (max) $ f(x) = \\sum_{i=0}^{n-1} -x_i^2$\n",
    "2. Rosenbrock-Funktion (min): $ f(x) = \\sum_{i=0}^{n-1}[100(x_{i+1}-x_i^2)^2+(1-x_i)^2]$\n",
    "<br /> <br />\n",
    "Gib Einsichten in das Verhalten des Algorithmus, z.B. durch log-Ausgaben oder Visualisierungen"
   ]
  },
  {
   "cell_type": "code",
   "execution_count": 46,
   "metadata": {},
   "outputs": [],
   "source": [
    "from math import sqrt"
   ]
  },
  {
   "cell_type": "code",
   "execution_count": 47,
   "metadata": {},
   "outputs": [],
   "source": [
    "def gradientOptimization(grad, x0, min, eta, eps):\n",
    "    if min: eta=-eta\n",
    "\n",
    "    xt = x0\n",
    "    xt1 = tuple(xt[i] + eta * grad[i](xt) for i in range(len(xt)))\n",
    "\n",
    "    while sqrt(sum([x**2 for x in tuple(x-y for x,y in zip(xt1, xt))])) >= eps:\n",
    "        xt=xt1\n",
    "        xt1 = tuple(xt[i] + eta * grad[i](xt) for i in range(len(xt)))\n",
    "    \n",
    "    return xt1"
   ]
  },
  {
   "cell_type": "code",
   "execution_count": null,
   "metadata": {},
   "outputs": [],
   "source": []
  }
 ],
 "metadata": {
  "interpreter": {
   "hash": "6be97c60451b4f6af63e1586cbe6045bdff23fdba9e17955e0da061620e78ebb"
  },
  "kernelspec": {
   "display_name": "Python 3.9.7 ('base')",
   "language": "python",
   "name": "python3"
  },
  "language_info": {
   "codemirror_mode": {
    "name": "ipython",
    "version": 3
   },
   "file_extension": ".py",
   "mimetype": "text/x-python",
   "name": "python",
   "nbconvert_exporter": "python",
   "pygments_lexer": "ipython3",
   "version": "3.9.7"
  },
  "orig_nbformat": 4
 },
 "nbformat": 4,
 "nbformat_minor": 2
}
